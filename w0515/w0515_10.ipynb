{
 "cells": [
  {
   "cell_type": "code",
   "execution_count": 142,
   "id": "50595c09",
   "metadata": {},
   "outputs": [],
   "source": [
    "# # import datetime\n",
    "# from datetime import datetime\n",
    "\n",
    "# # 기준시간\n",
    "# standard_time = datetime(2025,5,31,17,00,00)\n",
    "\n",
    "# # 검색된 시간 - \"06:15\"\n",
    "# times = \"06:15\"\n",
    "# d_time = times.split(\":\")\n",
    "# search_time = datetime(2025,5,31,int(d_time[0]),int(d_time[1]),00)\n",
    "\n",
    "# if (standard_time< search_time): # 기준시간보다 검색된 시간이 더 크면 제외\n",
    "#     print(\"제외 대상입니다.\")\n",
    "# else: \n",
    "#     print(\"데이터 출력대상입니다.\")"
   ]
  },
  {
   "cell_type": "code",
   "execution_count": 143,
   "id": "4baa3ef6",
   "metadata": {},
   "outputs": [],
   "source": [
    "import requests\n",
    "from bs4 import BeautifulSoup\n",
    "from selenium import webdriver\n",
    "from selenium.webdriver.common.keys import Keys\n",
    "from selenium.webdriver.common.by import By\n",
    "from selenium.webdriver.chrome.service import Service\n",
    "from selenium.webdriver.chrome.options import Options\n",
    "from selenium.webdriver.support.ui import WebDriverWait\n",
    "from selenium.webdriver.support import expected_conditions as EC\n",
    "import csv\n",
    "import time\n",
    "import random\n",
    "\n",
    "# import datetime\n",
    "from datetime import datetime\n",
    "\n",
    "# 크롬 옵션 설정 - 셀레니움 접근 제한 : 보안접근 해제\n",
    "options = Options()\n",
    "options.add_argument(\"--disable-blink-features=AutomationControlled\")  # 자동화 티 안 나게\n",
    "options.add_argument(\"start-maximized\")\n",
    "options.add_argument(\"user-agent=Mozilla/5.0 (Windows NT 10.0; Win64; x64) AppleWebKit/537.36 (KHTML, like Gecko) Chrome/123.0.0.0 Safari/537.36\")\n",
    "options.add_experimental_option(\"excludeSwitches\", [\"enable-automation\"])\n",
    "options.add_experimental_option('useAutomationExtension', False)\n",
    "\n",
    "# 브라우저 실행\n",
    "browser = webdriver.Chrome(options=options)\n",
    "browser.maximize_window() # 창 최대화"
   ]
  },
  {
   "cell_type": "code",
   "execution_count": 144,
   "id": "6a063670",
   "metadata": {},
   "outputs": [],
   "source": [
    "### 1. 네이버 항공권 접속\n",
    "url = \"https://www.yeogi.com/\"\n",
    "browser.get(url)\n",
    "time.sleep(2)"
   ]
  },
  {
   "cell_type": "code",
   "execution_count": 145,
   "id": "ff36876e",
   "metadata": {},
   "outputs": [],
   "source": [
    "# 여기어때 \n",
    "# 오사카\n",
    "# 9.24-9.27\n",
    "# 검색\n",
    "\n",
    "browser.find_element(By.XPATH,'//*[@id=\"LARGE_TAB_OVERSEAS_ACCOMMODATION\"]').click()\n",
    "time.sleep(1)\n",
    "elem = browser.find_element(By.CLASS_NAME,'css-72v42m')\n",
    "elem.send_keys(\"오사카\")\n",
    "time.sleep(2)\n",
    "browser.find_element(By.XPATH,'//*[@id=\"__next\"]/main/section[1]/div/div/div[2]/form/div[1]/div[2]/ul/li[1]').click()\n",
    "time.sleep(1)"
   ]
  },
  {
   "cell_type": "code",
   "execution_count": 146,
   "id": "02640da9",
   "metadata": {},
   "outputs": [],
   "source": [
    "# 달이동\n",
    "browser.find_element(By.XPATH,'//*[@id=\"__next\"]/main/section[1]/div/div/div[2]/form/div[2]/div[2]/div/div[1]/div[1]/button[2]').click()\n",
    "browser.find_element(By.XPATH,'//*[@id=\"__next\"]/main/section[1]/div/div/div[2]/form/div[2]/div[2]/div/div[1]/div[1]/button[2]').click()\n",
    "time.sleep(1)\n",
    "\n",
    "# 날짜 입력\n",
    "browser.find_element(By.XPATH,'//*[@id=\"__next\"]/main/section[1]/div/div/div[2]/form/div[2]/div[2]/div/div[1]/div[2]/div[2]/div/div/ul[2]/li[25]/button').click()\n",
    "time.sleep(1)\n",
    "browser.find_element(By.XPATH,'//*[@id=\"__next\"]/main/section[1]/div/div/div[2]/form/div[2]/div[2]/div/div[1]/div[2]/div[2]/div/div/ul[2]/li[28]/button').click()\n",
    "time.sleep(1)\n",
    "\n",
    "# 검색\n",
    "browser.find_element(By.XPATH,'//*[@id=\"__next\"]/main/section[1]/div/div/div[2]/form/div[4]/button').click()\n",
    "time.sleep(1)\n"
   ]
  },
  {
   "cell_type": "code",
   "execution_count": 147,
   "id": "57e484f5",
   "metadata": {},
   "outputs": [
    {
     "name": "stdout",
     "output_type": "stream",
     "text": [
      "호텔명  호텔 그레이서리 오사카 난바\n",
      "평점  8.7\n",
      "평가수: 7,078\n",
      "가격: 203,724\n",
      "------------------------------\n",
      "[['호텔 그레이서리 오사카 난바', 8.7, 7078, 203724]]\n"
     ]
    },
    {
     "ename": "FileNotFoundError",
     "evalue": "[Errno 2] No such file or directory: 'w0515/hotel.csv'",
     "output_type": "error",
     "traceback": [
      "\u001b[31m---------------------------------------------------------------------------\u001b[39m",
      "\u001b[31mFileNotFoundError\u001b[39m                         Traceback (most recent call last)",
      "\u001b[36mCell\u001b[39m\u001b[36m \u001b[39m\u001b[32mIn[147]\u001b[39m\u001b[32m, line 41\u001b[39m\n\u001b[32m     37\u001b[39m Hotel_List.append([hName,hStar,hRating,hPrice])\n\u001b[32m     39\u001b[39m \u001b[38;5;28mprint\u001b[39m(Hotel_List)\n\u001b[32m---> \u001b[39m\u001b[32m41\u001b[39m \u001b[38;5;28;01mwith\u001b[39;00m \u001b[38;5;28;43mopen\u001b[39;49m\u001b[43m(\u001b[49m\u001b[33;43m\"\u001b[39;49m\u001b[33;43mw0515/hotel.csv\u001b[39;49m\u001b[33;43m\"\u001b[39;49m\u001b[43m,\u001b[49m\u001b[33;43m\"\u001b[39;49m\u001b[33;43mw\u001b[39;49m\u001b[33;43m\"\u001b[39;49m\u001b[43m,\u001b[49m\u001b[43mencoding\u001b[49m\u001b[43m=\u001b[49m\u001b[33;43m\"\u001b[39;49m\u001b[33;43mutf-8-sig\u001b[39;49m\u001b[33;43m\"\u001b[39;49m\u001b[43m,\u001b[49m\u001b[43mnewline\u001b[49m\u001b[43m=\u001b[49m\u001b[33;43m\"\u001b[39;49m\u001b[33;43m\"\u001b[39;49m\u001b[43m)\u001b[49m \u001b[38;5;28;01mas\u001b[39;00m f:\n\u001b[32m     42\u001b[39m     f.write(soup.prettify())\n\u001b[32m     43\u001b[39m \u001b[38;5;28mprint\u001b[39m(\u001b[33m\"\u001b[39m\u001b[33m저장완료\u001b[39m\u001b[33m\"\u001b[39m)\n",
      "\u001b[36mFile \u001b[39m\u001b[32m~\\AppData\\Roaming\\Python\\Python313\\site-packages\\IPython\\core\\interactiveshell.py:326\u001b[39m, in \u001b[36m_modified_open\u001b[39m\u001b[34m(file, *args, **kwargs)\u001b[39m\n\u001b[32m    319\u001b[39m \u001b[38;5;28;01mif\u001b[39;00m file \u001b[38;5;129;01min\u001b[39;00m {\u001b[32m0\u001b[39m, \u001b[32m1\u001b[39m, \u001b[32m2\u001b[39m}:\n\u001b[32m    320\u001b[39m     \u001b[38;5;28;01mraise\u001b[39;00m \u001b[38;5;167;01mValueError\u001b[39;00m(\n\u001b[32m    321\u001b[39m         \u001b[33mf\u001b[39m\u001b[33m\"\u001b[39m\u001b[33mIPython won\u001b[39m\u001b[33m'\u001b[39m\u001b[33mt let you open fd=\u001b[39m\u001b[38;5;132;01m{\u001b[39;00mfile\u001b[38;5;132;01m}\u001b[39;00m\u001b[33m by default \u001b[39m\u001b[33m\"\u001b[39m\n\u001b[32m    322\u001b[39m         \u001b[33m\"\u001b[39m\u001b[33mas it is likely to crash IPython. If you know what you are doing, \u001b[39m\u001b[33m\"\u001b[39m\n\u001b[32m    323\u001b[39m         \u001b[33m\"\u001b[39m\u001b[33myou can use builtins\u001b[39m\u001b[33m'\u001b[39m\u001b[33m open.\u001b[39m\u001b[33m\"\u001b[39m\n\u001b[32m    324\u001b[39m     )\n\u001b[32m--> \u001b[39m\u001b[32m326\u001b[39m \u001b[38;5;28;01mreturn\u001b[39;00m \u001b[43mio_open\u001b[49m\u001b[43m(\u001b[49m\u001b[43mfile\u001b[49m\u001b[43m,\u001b[49m\u001b[43m \u001b[49m\u001b[43m*\u001b[49m\u001b[43margs\u001b[49m\u001b[43m,\u001b[49m\u001b[43m \u001b[49m\u001b[43m*\u001b[49m\u001b[43m*\u001b[49m\u001b[43mkwargs\u001b[49m\u001b[43m)\u001b[49m\n",
      "\u001b[31mFileNotFoundError\u001b[39m: [Errno 2] No such file or directory: 'w0515/hotel.csv'"
     ]
    }
   ],
   "source": [
    "\n",
    "# 금액 220,000 이하\n",
    "# 평점 9.0 이상\n",
    "# 평가수 5000명 이상\n",
    "soup = BeautifulSoup(browser.page_source,\"lxml\")\n",
    "data = soup.find(\"div\",{\"class\":\"css-1poun1e\"})\n",
    "h_list = data.find_all(\"div\",{\"class\":\"css-gvoll6\"})\n",
    "\n",
    "for i,hotel in enumerate (h_list):\n",
    "    # 파일저장\n",
    "    Hotel_List = []\n",
    "    # 가격\n",
    "    hPrice = hotel.find(\"span\",{\"class\":\"css-5r5920\"}).get_text().strip().replace(\",\",\"\")\n",
    "    hPrice = int(hPrice)   \n",
    "    \n",
    "    # 평점\n",
    "    hStar = hotel.find(\"span\",{\"class\":\"css-9ml4lz\"}).get_text().strip()\n",
    "    hStar = float(hStar) \n",
    "    \n",
    "    # 평가수\n",
    "    hRating = hotel.find(\"span\",{\"class\":\"css-oj6onp\"}).get_text().strip().replace(\",\",\"\")[:-4]\n",
    "    hRating = int(hRating)\n",
    "    \n",
    "    if hPrice >= 220000 or hStar <= 8.0 or hRating <= 5000: continue\n",
    "    \n",
    "    # 호텔명\n",
    "    hName = hotel.find(\"h3\",{\"class\":\"gc-thumbnail-type-seller-card-title css-1gxx2ac\"}).get_text().strip()\n",
    "    print(\"호텔명 \",hName)\n",
    "    # 평점\n",
    "    print(\"평점 \",hStar)\n",
    "    # 평가수\n",
    "    print(f\"평가수: {hRating:,}\")\n",
    "    # 가격\n",
    "    print(f\"가격: {hPrice:,}\")\n",
    "    \n",
    "    print(\"-\"*30)\n",
    "    \n",
    "    Hotel_List.append([hName,hStar,hRating,hPrice])\n",
    "\n",
    "    print(Hotel_List)\n",
    "    \n",
    "    with open(\"w0515/hotel.csv\",\"w\",encoding=\"utf-8-sig\",newline=\"\") as f:\n",
    "        f.write(soup.prettify())\n",
    "    print(\"저장완료\")\n",
    "    \n",
    "# 페이지 넘기기\n",
    "browser.find_element(By.XPATH,'//*[@id=\"__next\"]/div/main/section/div[2]/div[2]/div/div/button[2]').click()\n",
    "time.sleep(2)\n",
    "\n",
    "\n",
    "    "
   ]
  },
  {
   "cell_type": "code",
   "execution_count": null,
   "id": "061c6ef3",
   "metadata": {},
   "outputs": [],
   "source": []
  }
 ],
 "metadata": {
  "kernelspec": {
   "display_name": "Python 3",
   "language": "python",
   "name": "python3"
  },
  "language_info": {
   "codemirror_mode": {
    "name": "ipython",
    "version": 3
   },
   "file_extension": ".py",
   "mimetype": "text/x-python",
   "name": "python",
   "nbconvert_exporter": "python",
   "pygments_lexer": "ipython3",
   "version": "3.13.2"
  }
 },
 "nbformat": 4,
 "nbformat_minor": 5
}
