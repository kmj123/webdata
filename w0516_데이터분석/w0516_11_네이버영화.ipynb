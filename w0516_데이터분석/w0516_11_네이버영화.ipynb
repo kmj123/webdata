{
 "cells": [
  {
   "cell_type": "code",
   "execution_count": 20,
   "id": "3080f68d",
   "metadata": {},
   "outputs": [],
   "source": [
    "import pandas as pd\n",
    "import pyautogui\n",
    "\n",
    "import requests\n",
    "from bs4 import BeautifulSoup\n",
    "from selenium import webdriver\n",
    "from selenium.webdriver.common.keys import Keys\n",
    "from selenium.webdriver.common.by import By\n",
    "from selenium.webdriver.chrome.service import Service\n",
    "from selenium.webdriver.chrome.options import Options\n",
    "from selenium.webdriver.support.ui import WebDriverWait\n",
    "from selenium.webdriver.support import expected_conditions as EC\n",
    "\n",
    "import csv\n",
    "import time\n",
    "import random\n",
    "import pyautogui        # 마우스 제어\n",
    "\n",
    "# 크롬 옵션 설정 - 셀레니움 접근 제한 : 보안접근 해제\n",
    "options = Options()\n",
    "options.add_argument(\"--disable-blink-features=AutomationControlled\")  # 자동화 티 안 나게\n",
    "options.add_argument(\"start-maximized\")\n",
    "options.add_argument(\"user-agent=Mozilla/5.0 (Windows NT 10.0; Win64; x64) AppleWebKit/537.36 (KHTML, like Gecko) Chrome/123.0.0.0 Safari/537.36\")\n",
    "options.add_experimental_option(\"excludeSwitches\", [\"enable-automation\"])\n",
    "options.add_experimental_option('useAutomationExtension', False)\n",
    "\n",
    "## 메일관련 import\n",
    "import smtplib\n",
    "from email.mime.text import MIMEText\n",
    "from email.mime.multipart import MIMEMultipart\n",
    "from email.mime.base import MIMEBase\n",
    "from email import encoders\n",
    "\n",
    "# 브라우저 실행\n",
    "browser = webdriver.Chrome(options=options)\n",
    "browser.maximize_window() # 창 최대화\n",
    "\n",
    "### 1. 네이버 접속\n",
    "url = \"https://search.naver.com/search.naver?where=nexearch&sm=tab_etc&qvt=0&query=%EC%9B%94%EB%B3%84%EA%B0%9C%EB%B4%89%EC%98%81%ED%99%94\"\n",
    "browser.get(url)\n",
    "time.sleep(1)\n",
    "browser.find_element(By.XPATH,'//*[@id=\"main_pack\"]/div[3]/div[2]/div/div/div/div[1]/div[3]/div/div/ul[2]/li[1]/a').click()\n",
    "time.sleep(1)"
   ]
  },
  {
   "cell_type": "markdown",
   "id": "852ab67c",
   "metadata": {},
   "source": [
    "제목 개봉일 평점 \n",
    "평점에 대한 평균과 합계\n",
    "최대값, 최소값을 출력하시오\n",
    "DataFrame 사용"
   ]
  },
  {
   "cell_type": "code",
   "execution_count": null,
   "id": "4db5955c",
   "metadata": {},
   "outputs": [
    {
     "name": "stdout",
     "output_type": "stream",
     "text": [
      "더 퍼스트 슬램덩크\t2025.01.04.\t9.25\n",
      "--------------------------------------------------\n",
      "해리 포터와 죽음의 성물 2\t2025.01.15.\t9.17\n",
      "--------------------------------------------------\n",
      "검은 수녀들\t2025.01.24.\t6.44\n",
      "--------------------------------------------------\n",
      "히트맨2\t2025.01.22.\t7.44\n",
      "--------------------------------------------------\n",
      "러브레터\t2025.01.01.\t9.32\n",
      "--------------------------------------------------\n",
      "마당을 나온 암탉\t2025.01.22.\t8.67\n",
      "--------------------------------------------------\n",
      "색, 계\t2025.01.01.\t8.98\n",
      "--------------------------------------------------\n",
      "말할 수 없는 비밀\t2025.01.27.\t8.62\n",
      "--------------------------------------------------\n"
     ]
    }
   ],
   "source": [
    "soup = BeautifulSoup(browser.page_source,\"lxml\")\n",
    "data = soup.find(\"div\",{\"class\":\"card_area _panel\"})\n",
    "movie_list = data.find_all(\"div\",{\"class\":\"card_item\"})\n",
    "ff = open('file/movie.csv',\"w\",encoding=\"utf-8-sig\")\n",
    "writer = csv.writer(ff)\n",
    "f_list = ['제목','개봉일','평점']\n",
    "writer.writerow(f_list)\n",
    "    \n",
    "for movie in movie_list:\n",
    "    file = []\n",
    "    # 제목\n",
    "    title = movie.find(\"a\",{\"class\":\"this_text _text\"}).get_text().strip()\n",
    "    print(title,end=\"\\t\")\n",
    "    # 개봉일\n",
    "    date1 = movie.find(\"dl\",{\"class\":\"info_group type_visible\"})\n",
    "    date = date1.find(\"dd\").get_text().strip()\n",
    "    print(date,end=\"\\t\")\n",
    "    # 평점\n",
    "    rating = movie.find(\"span\",{\"class\":\"num\"}).get_text().strip()\n",
    "    print(rating)\n",
    "    print(\"-\"*50)\n",
    "    file.append(title) \n",
    "    file.append(date) \n",
    "    file.append(rating) \n",
    "    writer.writerow(file)\n",
    "     \n",
    "ff.close()\n",
    "    "
   ]
  },
  {
   "cell_type": "code",
   "execution_count": 22,
   "id": "b6d7094e",
   "metadata": {},
   "outputs": [
    {
     "data": {
      "text/plain": [
       "제목\n",
       "검은 수녀들        6.44\n",
       "히트맨2          7.44\n",
       "말할 수 없는 비밀    8.62\n",
       "마당을 나온 암탉     8.67\n",
       "색, 계          8.98\n",
       "Name: 평점, dtype: float64"
      ]
     },
     "execution_count": 22,
     "metadata": {},
     "output_type": "execute_result"
    }
   ],
   "source": [
    "df = pd.read_csv('file/movie.csv',index_col='제목')\n",
    "df['평점'].sum()    # 합계\n",
    "df['평점'].mean()    # 평균타입 float타입\n",
    "df['평점'].min()    # 최소값\n",
    "df['평점'].max()    # 최대값\n",
    "df['평점'].nlargest()    # 큰수 5개\n",
    "df['평점'].nsmallest()    # 작은수 5개"
   ]
  }
 ],
 "metadata": {
  "kernelspec": {
   "display_name": "Python 3",
   "language": "python",
   "name": "python3"
  },
  "language_info": {
   "codemirror_mode": {
    "name": "ipython",
    "version": 3
   },
   "file_extension": ".py",
   "mimetype": "text/x-python",
   "name": "python",
   "nbconvert_exporter": "python",
   "pygments_lexer": "ipython3",
   "version": "3.13.2"
  }
 },
 "nbformat": 4,
 "nbformat_minor": 5
}
