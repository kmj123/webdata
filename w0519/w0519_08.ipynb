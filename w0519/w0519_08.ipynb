{
 "cells": [
  {
   "cell_type": "code",
   "execution_count": 101,
   "id": "812be17d",
   "metadata": {},
   "outputs": [
    {
     "name": "stderr",
     "output_type": "stream",
     "text": [
      "c:\\python3\\Lib\\site-packages\\openpyxl\\styles\\stylesheet.py:237: UserWarning: Workbook contains no default style, apply openpyxl's default\n",
      "  warn(\"Workbook contains no default style, apply openpyxl's default\")\n"
     ]
    },
    {
     "data": {
      "text/html": [
       "<div>\n",
       "<style scoped>\n",
       "    .dataframe tbody tr th:only-of-type {\n",
       "        vertical-align: middle;\n",
       "    }\n",
       "\n",
       "    .dataframe tbody tr th {\n",
       "        vertical-align: top;\n",
       "    }\n",
       "\n",
       "    .dataframe thead th {\n",
       "        text-align: right;\n",
       "    }\n",
       "</style>\n",
       "<table border=\"1\" class=\"dataframe\">\n",
       "  <thead>\n",
       "    <tr style=\"text-align: right;\">\n",
       "      <th></th>\n",
       "      <th>0~9세</th>\n",
       "      <th>10~19세</th>\n",
       "      <th>20~29세</th>\n",
       "      <th>30~39세</th>\n",
       "      <th>40~49세</th>\n",
       "      <th>50~59세</th>\n",
       "      <th>60~69세</th>\n",
       "      <th>70~79세</th>\n",
       "      <th>80~89세</th>\n",
       "      <th>90~99세</th>\n",
       "      <th>100세 이상</th>\n",
       "    </tr>\n",
       "    <tr>\n",
       "      <th>행정기관</th>\n",
       "      <th></th>\n",
       "      <th></th>\n",
       "      <th></th>\n",
       "      <th></th>\n",
       "      <th></th>\n",
       "      <th></th>\n",
       "      <th></th>\n",
       "      <th></th>\n",
       "      <th></th>\n",
       "      <th></th>\n",
       "      <th></th>\n",
       "    </tr>\n",
       "  </thead>\n",
       "  <tbody>\n",
       "    <tr>\n",
       "      <th>전국</th>\n",
       "      <td>3,069,919</td>\n",
       "      <td>4,623,300</td>\n",
       "      <td>5,858,472</td>\n",
       "      <td>6,632,515</td>\n",
       "      <td>7,661,329</td>\n",
       "      <td>8,692,664</td>\n",
       "      <td>7,835,385</td>\n",
       "      <td>4,324,972</td>\n",
       "      <td>2,123,731</td>\n",
       "      <td>344,632</td>\n",
       "      <td>8,806</td>\n",
       "    </tr>\n",
       "  </tbody>\n",
       "</table>\n",
       "</div>"
      ],
      "text/plain": [
       "           0~9세     10~19세     20~29세     30~39세     40~49세     50~59세  \\\n",
       "행정기관                                                                     \n",
       "전국    3,069,919  4,623,300  5,858,472  6,632,515  7,661,329  8,692,664   \n",
       "\n",
       "         60~69세     70~79세     80~89세   90~99세 100세 이상  \n",
       "행정기관                                                    \n",
       "전국    7,835,385  4,324,972  2,123,731  344,632   8,806  "
      ]
     },
     "execution_count": 101,
     "metadata": {},
     "output_type": "execute_result"
    }
   ],
   "source": [
    "# 파일 불러오기\n",
    "import pandas as pd\n",
    "\n",
    "### 계\n",
    "df = pd.read_excel('data/202504_202504_연령별인구현황_월간.xlsx',skiprows=3,\n",
    "                   usecols='B,E:O',index_col='행정기관',nrows=1)\n",
    "df"
   ]
  },
  {
   "cell_type": "code",
   "execution_count": 102,
   "id": "268ac4d4",
   "metadata": {},
   "outputs": [
    {
     "name": "stderr",
     "output_type": "stream",
     "text": [
      "c:\\python3\\Lib\\site-packages\\openpyxl\\styles\\stylesheet.py:237: UserWarning: Workbook contains no default style, apply openpyxl's default\n",
      "  warn(\"Workbook contains no default style, apply openpyxl's default\")\n"
     ]
    },
    {
     "data": {
      "text/html": [
       "<div>\n",
       "<style scoped>\n",
       "    .dataframe tbody tr th:only-of-type {\n",
       "        vertical-align: middle;\n",
       "    }\n",
       "\n",
       "    .dataframe tbody tr th {\n",
       "        vertical-align: top;\n",
       "    }\n",
       "\n",
       "    .dataframe thead th {\n",
       "        text-align: right;\n",
       "    }\n",
       "</style>\n",
       "<table border=\"1\" class=\"dataframe\">\n",
       "  <thead>\n",
       "    <tr style=\"text-align: right;\">\n",
       "      <th></th>\n",
       "      <th>0~9세.1</th>\n",
       "      <th>10~19세.1</th>\n",
       "      <th>20~29세.1</th>\n",
       "      <th>30~39세.1</th>\n",
       "      <th>40~49세.1</th>\n",
       "      <th>50~59세.1</th>\n",
       "      <th>60~69세.1</th>\n",
       "      <th>70~79세.1</th>\n",
       "      <th>80~89세.1</th>\n",
       "      <th>90~99세.1</th>\n",
       "      <th>100세 이상.1</th>\n",
       "    </tr>\n",
       "    <tr>\n",
       "      <th>행정기관</th>\n",
       "      <th></th>\n",
       "      <th></th>\n",
       "      <th></th>\n",
       "      <th></th>\n",
       "      <th></th>\n",
       "      <th></th>\n",
       "      <th></th>\n",
       "      <th></th>\n",
       "      <th></th>\n",
       "      <th></th>\n",
       "      <th></th>\n",
       "    </tr>\n",
       "  </thead>\n",
       "  <tbody>\n",
       "    <tr>\n",
       "      <th>전국</th>\n",
       "      <td>1,573,144</td>\n",
       "      <td>2,375,415</td>\n",
       "      <td>3,046,155</td>\n",
       "      <td>3,465,664</td>\n",
       "      <td>3,897,320</td>\n",
       "      <td>4,385,046</td>\n",
       "      <td>3,861,339</td>\n",
       "      <td>1,996,733</td>\n",
       "      <td>790,541</td>\n",
       "      <td>81,731</td>\n",
       "      <td>1,545</td>\n",
       "    </tr>\n",
       "  </tbody>\n",
       "</table>\n",
       "</div>"
      ],
      "text/plain": [
       "         0~9세.1   10~19세.1   20~29세.1   30~39세.1   40~49세.1   50~59세.1  \\\n",
       "행정기관                                                                     \n",
       "전국    1,573,144  2,375,415  3,046,155  3,465,664  3,897,320  4,385,046   \n",
       "\n",
       "       60~69세.1   70~79세.1 80~89세.1 90~99세.1 100세 이상.1  \n",
       "행정기관                                                    \n",
       "전국    3,861,339  1,996,733  790,541   81,731     1,545  "
      ]
     },
     "execution_count": 102,
     "metadata": {},
     "output_type": "execute_result"
    }
   ],
   "source": [
    "### 남\n",
    "m_df = pd.read_excel('data/202504_202504_연령별인구현황_월간.xlsx',skiprows=3,\n",
    "                   usecols='B,R:AB',index_col='행정기관',nrows=1)\n",
    "m_df"
   ]
  },
  {
   "cell_type": "code",
   "execution_count": 103,
   "id": "68607e6f",
   "metadata": {},
   "outputs": [
    {
     "name": "stderr",
     "output_type": "stream",
     "text": [
      "c:\\python3\\Lib\\site-packages\\openpyxl\\styles\\stylesheet.py:237: UserWarning: Workbook contains no default style, apply openpyxl's default\n",
      "  warn(\"Workbook contains no default style, apply openpyxl's default\")\n"
     ]
    },
    {
     "data": {
      "text/html": [
       "<div>\n",
       "<style scoped>\n",
       "    .dataframe tbody tr th:only-of-type {\n",
       "        vertical-align: middle;\n",
       "    }\n",
       "\n",
       "    .dataframe tbody tr th {\n",
       "        vertical-align: top;\n",
       "    }\n",
       "\n",
       "    .dataframe thead th {\n",
       "        text-align: right;\n",
       "    }\n",
       "</style>\n",
       "<table border=\"1\" class=\"dataframe\">\n",
       "  <thead>\n",
       "    <tr style=\"text-align: right;\">\n",
       "      <th></th>\n",
       "      <th>0~9세.2</th>\n",
       "      <th>10~19세.2</th>\n",
       "      <th>20~29세.2</th>\n",
       "      <th>30~39세.2</th>\n",
       "      <th>40~49세.2</th>\n",
       "      <th>50~59세.2</th>\n",
       "      <th>60~69세.2</th>\n",
       "      <th>70~79세.2</th>\n",
       "      <th>80~89세.2</th>\n",
       "      <th>90~99세.2</th>\n",
       "      <th>100세 이상.2</th>\n",
       "    </tr>\n",
       "    <tr>\n",
       "      <th>행정기관</th>\n",
       "      <th></th>\n",
       "      <th></th>\n",
       "      <th></th>\n",
       "      <th></th>\n",
       "      <th></th>\n",
       "      <th></th>\n",
       "      <th></th>\n",
       "      <th></th>\n",
       "      <th></th>\n",
       "      <th></th>\n",
       "      <th></th>\n",
       "    </tr>\n",
       "  </thead>\n",
       "  <tbody>\n",
       "    <tr>\n",
       "      <th>전국</th>\n",
       "      <td>1,496,775</td>\n",
       "      <td>2,247,885</td>\n",
       "      <td>2,812,317</td>\n",
       "      <td>3,166,851</td>\n",
       "      <td>3,764,009</td>\n",
       "      <td>4,307,618</td>\n",
       "      <td>3,974,046</td>\n",
       "      <td>2,328,239</td>\n",
       "      <td>1,333,190</td>\n",
       "      <td>262,901</td>\n",
       "      <td>7,261</td>\n",
       "    </tr>\n",
       "  </tbody>\n",
       "</table>\n",
       "</div>"
      ],
      "text/plain": [
       "         0~9세.2   10~19세.2   20~29세.2   30~39세.2   40~49세.2   50~59세.2  \\\n",
       "행정기관                                                                     \n",
       "전국    1,496,775  2,247,885  2,812,317  3,166,851  3,764,009  4,307,618   \n",
       "\n",
       "       60~69세.2   70~79세.2   80~89세.2 90~99세.2 100세 이상.2  \n",
       "행정기관                                                      \n",
       "전국    3,974,046  2,328,239  1,333,190  262,901     7,261  "
      ]
     },
     "execution_count": 103,
     "metadata": {},
     "output_type": "execute_result"
    }
   ],
   "source": [
    "### 여\n",
    "w_df = pd.read_excel('data/202504_202504_연령별인구현황_월간.xlsx',skiprows=3,\n",
    "                   usecols='B,AE:AO',index_col='행정기관',nrows=1)\n",
    "w_df"
   ]
  },
  {
   "cell_type": "code",
   "execution_count": 104,
   "id": "b2448ac8",
   "metadata": {},
   "outputs": [],
   "source": [
    "### 컬럼명을 비교\n",
    "df.columns      # 컬럼명 '0~9세\n",
    "m_df.columns    # 컬럼명 '0~9세.1\n",
    "w_df.columns    # 컬럼명 '0~9세.2\n",
    "\n",
    "### 컬럼명으로 컬럼 출력\n",
    "# df['0~9세']\n",
    "# m_df['0~9세.1']\n",
    "# w_df['0~9세.2']\n",
    "\n",
    "### 컬럼명 변경\n",
    "df.columns\n",
    "m_df.columns = df.columns   # 컬럼명 변경\n",
    "w_df.columns = df.columns   # 컬럼명 변경\n"
   ]
  },
  {
   "cell_type": "code",
   "execution_count": 105,
   "id": "984f6e55",
   "metadata": {},
   "outputs": [
    {
     "data": {
      "text/plain": [
       "행정기관\n",
       "전국      1,496,775\n",
       "Name: 0~9세, dtype: object"
      ]
     },
     "execution_count": 105,
     "metadata": {},
     "output_type": "execute_result"
    }
   ],
   "source": [
    "df['0~9세']\n",
    "m_df['0~9세']\n",
    "w_df['0~9세']"
   ]
  },
  {
   "cell_type": "markdown",
   "id": "56543b02",
   "metadata": {},
   "source": [
    "replace : ,를 삭제(천단위 삭제)\n",
    "타입변경: astype(int), astype(float)"
   ]
  },
  {
   "cell_type": "code",
   "execution_count": 106,
   "id": "05f1fde6",
   "metadata": {},
   "outputs": [
    {
     "name": "stdout",
     "output_type": "stream",
     "text": [
      "<class 'pandas.core.frame.DataFrame'>\n",
      "Index: 1 entries, 전국   to 전국  \n",
      "Data columns (total 11 columns):\n",
      " #   Column   Non-Null Count  Dtype \n",
      "---  ------   --------------  ----- \n",
      " 0   0~9세     1 non-null      int64 \n",
      " 1   10~19세   1 non-null      object\n",
      " 2   20~29세   1 non-null      object\n",
      " 3   30~39세   1 non-null      object\n",
      " 4   40~49세   1 non-null      object\n",
      " 5   50~59세   1 non-null      object\n",
      " 6   60~69세   1 non-null      object\n",
      " 7   70~79세   1 non-null      object\n",
      " 8   80~89세   1 non-null      object\n",
      " 9   90~99세   1 non-null      object\n",
      " 10  100세 이상  1 non-null      object\n",
      "dtypes: int64(1), object(10)\n",
      "memory usage: 96.0+ bytes\n"
     ]
    }
   ],
   "source": [
    "# df.describe()\n",
    "# df.info()\n",
    "# df['0~9세'] = df['0~9세'].str.replace(\",\",\"\")   # 천단위 삭제\n",
    "# df['0~9세'] = df['0~9세'].astype(int)           # 타입 변경\n",
    "df['0~9세'] = df['0~9세'].str.replace(\",\",\"\").astype(int)   # 천단위 삭제, 타입 변경\n",
    "df.info()"
   ]
  },
  {
   "cell_type": "code",
   "execution_count": 107,
   "id": "3f776edc",
   "metadata": {},
   "outputs": [
    {
     "data": {
      "text/plain": [
       "Index(['0~9세', '10~19세', '20~29세', '30~39세', '40~49세', '50~59세', '60~69세',\n",
       "       '70~79세', '80~89세', '90~99세', '100세 이상'],\n",
       "      dtype='object')"
      ]
     },
     "execution_count": 107,
     "metadata": {},
     "output_type": "execute_result"
    }
   ],
   "source": [
    "df.columns\n",
    "# 10~19세 천단위 삭제, int 변경"
   ]
  },
  {
   "cell_type": "code",
   "execution_count": 108,
   "id": "64ec534e",
   "metadata": {},
   "outputs": [],
   "source": [
    "### m_df 천단위 삭제, int 타입 변경\n",
    "# m_df.info()\n",
    "m_df = m_df.T # 축 변경"
   ]
  },
  {
   "cell_type": "code",
   "execution_count": 109,
   "id": "bffdf26f",
   "metadata": {},
   "outputs": [
    {
     "data": {
      "text/html": [
       "<div>\n",
       "<style scoped>\n",
       "    .dataframe tbody tr th:only-of-type {\n",
       "        vertical-align: middle;\n",
       "    }\n",
       "\n",
       "    .dataframe tbody tr th {\n",
       "        vertical-align: top;\n",
       "    }\n",
       "\n",
       "    .dataframe thead th {\n",
       "        text-align: right;\n",
       "    }\n",
       "</style>\n",
       "<table border=\"1\" class=\"dataframe\">\n",
       "  <thead>\n",
       "    <tr style=\"text-align: right;\">\n",
       "      <th>행정기관</th>\n",
       "      <th>전국</th>\n",
       "    </tr>\n",
       "  </thead>\n",
       "  <tbody>\n",
       "    <tr>\n",
       "      <th>0~9세</th>\n",
       "      <td>1,573,144</td>\n",
       "    </tr>\n",
       "    <tr>\n",
       "      <th>10~19세</th>\n",
       "      <td>2,375,415</td>\n",
       "    </tr>\n",
       "  </tbody>\n",
       "</table>\n",
       "</div>"
      ],
      "text/plain": [
       "행정기관         전국  \n",
       "0~9세    1,573,144\n",
       "10~19세  2,375,415"
      ]
     },
     "execution_count": 109,
     "metadata": {},
     "output_type": "execute_result"
    }
   ],
   "source": [
    "m_df.head(2)"
   ]
  },
  {
   "cell_type": "code",
   "execution_count": 110,
   "id": "690f11af",
   "metadata": {},
   "outputs": [
    {
     "data": {
      "text/plain": [
       "행정기관\n",
       "전국      1573144\n",
       "Name: 0~9세, dtype: int64"
      ]
     },
     "execution_count": 110,
     "metadata": {},
     "output_type": "execute_result"
    }
   ],
   "source": [
    "m_df.iloc[0].str.replace(\",\",\"\").astype(int)"
   ]
  },
  {
   "cell_type": "code",
   "execution_count": 113,
   "id": "e34076b4",
   "metadata": {},
   "outputs": [
    {
     "data": {
      "text/plain": [
       "Index(['전국'], dtype='object', name='행정기관')"
      ]
     },
     "execution_count": 113,
     "metadata": {},
     "output_type": "execute_result"
    }
   ],
   "source": [
    "# ### 축이 전국으로 변경됨\n",
    "# ### 컬럼별로 한번에 변경 가능 - replace,astype 컬럼 전체 적용시킴\n",
    "# m_df.columns\n",
    "# m_df['전국  '] = m_df['전국  '].str.replace(\",\",\"\").astype(int)\n",
    "# m_df\n",
    "\n",
    "m_df.rename(columns={\"전국  \":\"전국\"},inplace=True)\n",
    "m_df.columns"
   ]
  },
  {
   "cell_type": "code",
   "execution_count": null,
   "id": "eb913b58",
   "metadata": {},
   "outputs": [],
   "source": []
  }
 ],
 "metadata": {
  "kernelspec": {
   "display_name": "Python 3",
   "language": "python",
   "name": "python3"
  },
  "language_info": {
   "codemirror_mode": {
    "name": "ipython",
    "version": 3
   },
   "file_extension": ".py",
   "mimetype": "text/x-python",
   "name": "python",
   "nbconvert_exporter": "python",
   "pygments_lexer": "ipython3",
   "version": "3.13.2"
  }
 },
 "nbformat": 4,
 "nbformat_minor": 5
}
