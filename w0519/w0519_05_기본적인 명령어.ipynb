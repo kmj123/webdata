{
 "cells": [
  {
   "cell_type": "code",
   "execution_count": 2,
   "id": "ae94e7b8",
   "metadata": {},
   "outputs": [],
   "source": [
    "# import pandas as pd\n",
    "\n",
    "# data = {\n",
    "#     '이름':['홍길동','유관순','이순신','강감찬','김구','김유신','홍길자','홍길순'],\n",
    "#     '학교':['가산고','가산고','가산고','가산고','가산고','디지털고','디지털고','디지털고'],\n",
    "#     '키':[197,184,168,187,188,202,188,190],\n",
    "#     '국어':[90,40,80,40,15,80,55,100],\n",
    "#     '영어':[85,35,75,60,20,100,65,85],\n",
    "#     '수학':[100,50,70,70,10,95,45,90],\n",
    "#     '과학':[95,55,80,75,35,85,40,95],\n",
    "#     '사회':[85,25,75,80,10,80,35,95],\n",
    "#     'SW특기':['Python','Java','Javascript','','','C','PYTHON','C#']\n",
    "# }\n",
    "# ### index 추가해서 DataFrame 구성\n",
    "# df = pd.DataFrame(data,index=['1번','2번','3번','4번','5번','6번','7번','8번'])\n",
    "# df.index.name = '지원번호'"
   ]
  },
  {
   "cell_type": "code",
   "execution_count": 3,
   "id": "aa7fddf9",
   "metadata": {},
   "outputs": [],
   "source": [
    "import pandas as pd\n",
    "df = pd.read_excel('data/score.xlsx',index_col='지원번호')"
   ]
  },
  {
   "cell_type": "markdown",
   "id": "a8f90b87",
   "metadata": {},
   "source": [
    "DataFrame 기본명령어"
   ]
  },
  {
   "cell_type": "code",
   "execution_count": 6,
   "id": "aeff39bb",
   "metadata": {},
   "outputs": [
    {
     "data": {
      "text/html": [
       "<div>\n",
       "<style scoped>\n",
       "    .dataframe tbody tr th:only-of-type {\n",
       "        vertical-align: middle;\n",
       "    }\n",
       "\n",
       "    .dataframe tbody tr th {\n",
       "        vertical-align: top;\n",
       "    }\n",
       "\n",
       "    .dataframe thead th {\n",
       "        text-align: right;\n",
       "    }\n",
       "</style>\n",
       "<table border=\"1\" class=\"dataframe\">\n",
       "  <thead>\n",
       "    <tr style=\"text-align: right;\">\n",
       "      <th></th>\n",
       "      <th>이름</th>\n",
       "      <th>학교</th>\n",
       "      <th>키</th>\n",
       "      <th>국어</th>\n",
       "      <th>영어</th>\n",
       "      <th>수학</th>\n",
       "      <th>과학</th>\n",
       "      <th>사회</th>\n",
       "      <th>SW특기</th>\n",
       "    </tr>\n",
       "    <tr>\n",
       "      <th>지원번호</th>\n",
       "      <th></th>\n",
       "      <th></th>\n",
       "      <th></th>\n",
       "      <th></th>\n",
       "      <th></th>\n",
       "      <th></th>\n",
       "      <th></th>\n",
       "      <th></th>\n",
       "      <th></th>\n",
       "    </tr>\n",
       "  </thead>\n",
       "  <tbody>\n",
       "    <tr>\n",
       "      <th>6번</th>\n",
       "      <td>김유신</td>\n",
       "      <td>디지털고</td>\n",
       "      <td>202</td>\n",
       "      <td>80</td>\n",
       "      <td>100</td>\n",
       "      <td>95</td>\n",
       "      <td>85</td>\n",
       "      <td>80</td>\n",
       "      <td>C</td>\n",
       "    </tr>\n",
       "    <tr>\n",
       "      <th>7번</th>\n",
       "      <td>홍길자</td>\n",
       "      <td>디지털고</td>\n",
       "      <td>188</td>\n",
       "      <td>55</td>\n",
       "      <td>65</td>\n",
       "      <td>45</td>\n",
       "      <td>40</td>\n",
       "      <td>35</td>\n",
       "      <td>PYTHON</td>\n",
       "    </tr>\n",
       "    <tr>\n",
       "      <th>8번</th>\n",
       "      <td>홍길순</td>\n",
       "      <td>디지털고</td>\n",
       "      <td>190</td>\n",
       "      <td>100</td>\n",
       "      <td>85</td>\n",
       "      <td>90</td>\n",
       "      <td>95</td>\n",
       "      <td>95</td>\n",
       "      <td>C#</td>\n",
       "    </tr>\n",
       "  </tbody>\n",
       "</table>\n",
       "</div>"
      ],
      "text/plain": [
       "       이름    학교    키   국어   영어  수학  과학  사회    SW특기\n",
       "지원번호                                              \n",
       "6번    김유신  디지털고  202   80  100  95  85  80       C\n",
       "7번    홍길자  디지털고  188   55   65  45  40  35  PYTHON\n",
       "8번    홍길순  디지털고  190  100   85  90  95  95      C#"
      ]
     },
     "execution_count": 6,
     "metadata": {},
     "output_type": "execute_result"
    }
   ],
   "source": [
    "# 처음 기본형태로 5개만 출력됨, 숫자를 넣으면 숫자만큼 출력됨\n",
    "# df.head(2)\n",
    "\n",
    "# 뒤부분 5개만 출력됨\n",
    "df.tail(3)"
   ]
  },
  {
   "cell_type": "code",
   "execution_count": null,
   "id": "aa1e9218",
   "metadata": {},
   "outputs": [
    {
     "name": "stdout",
     "output_type": "stream",
     "text": [
      "<class 'pandas.core.frame.DataFrame'>\n",
      "Index: 8 entries, 1번 to 8번\n",
      "Data columns (total 9 columns):\n",
      " #   Column  Non-Null Count  Dtype \n",
      "---  ------  --------------  ----- \n",
      " 0   이름      8 non-null      object\n",
      " 1   학교      8 non-null      object\n",
      " 2   키       8 non-null      int64 \n",
      " 3   국어      8 non-null      int64 \n",
      " 4   영어      8 non-null      int64 \n",
      " 5   수학      8 non-null      int64 \n",
      " 6   과학      8 non-null      int64 \n",
      " 7   사회      8 non-null      int64 \n",
      " 8   SW특기    6 non-null      object\n",
      "dtypes: int64(6), object(3)\n",
      "memory usage: 640.0+ bytes\n"
     ]
    }
   ],
   "source": [
    "# 데이터 타입이 숫자인 경우만 기본적 통계를 보여줌\n",
    "# str타입 컬럼을 출력되지 않음\n",
    "# df.describe()\n",
    "\n",
    "# 데이터 크기, 데이터 유형, Nan 데이터 유무, 개수\n",
    "# df.info()"
   ]
  },
  {
   "cell_type": "code",
   "execution_count": null,
   "id": "e4f247a2",
   "metadata": {},
   "outputs": [
    {
     "data": {
      "text/plain": [
       "Index(['이름', '학교', '키', '국어', '영어', '수학', '과학', '사회', 'SW특기'], dtype='object')"
      ]
     },
     "execution_count": 11,
     "metadata": {},
     "output_type": "execute_result"
    }
   ],
   "source": [
    "# index 읽어오기\n",
    "# df.index\n",
    "\n",
    "# column 리스트 출력\n",
    "df.columns\n",
    "\n",
    "# 데이터 크기\n",
    "df.shape\n",
    "\n",
    "# "
   ]
  },
  {
   "cell_type": "code",
   "execution_count": null,
   "id": "c89ca07a",
   "metadata": {},
   "outputs": [
    {
     "data": {
      "text/plain": [
       "지원번호\n",
       "6번    202\n",
       "1번    197\n",
       "8번    190\n",
       "Name: 키, dtype: int64"
      ]
     },
     "execution_count": 15,
     "metadata": {},
     "output_type": "execute_result"
    }
   ],
   "source": [
    "# 컬럼 출력\n",
    "# df['키']\n",
    "\n",
    "# 키 컬럼에서 큰순서로 출력시, 개수입력시 개수만큼 출력\n",
    "df['키'].nlargest(3)\n",
    "\n",
    "# 작은 순서로 출력\n",
    "# df['키'].nsmallest()  # 기본 5개 출력\n",
    "df['키'].nsmallest(3)"
   ]
  },
  {
   "cell_type": "code",
   "execution_count": 16,
   "id": "03d8b620",
   "metadata": {},
   "outputs": [
    {
     "data": {
      "text/plain": [
       "지원번호\n",
       "1번     가산고\n",
       "2번     가산고\n",
       "3번     가산고\n",
       "4번     가산고\n",
       "5번     가산고\n",
       "6번    디지털고\n",
       "7번    디지털고\n",
       "8번    디지털고\n",
       "Name: 학교, dtype: object"
      ]
     },
     "execution_count": 16,
     "metadata": {},
     "output_type": "execute_result"
    }
   ],
   "source": [
    "df['학교']"
   ]
  },
  {
   "cell_type": "code",
   "execution_count": 20,
   "id": "8f2cf5d4",
   "metadata": {},
   "outputs": [
    {
     "data": {
      "text/plain": [
       "np.int64(8)"
      ]
     },
     "execution_count": 20,
     "metadata": {},
     "output_type": "execute_result"
    }
   ],
   "source": [
    "# 중복제거 후 학교 이름 출력\n",
    "df['학교'].unique()     # 이름을 출력\n",
    "df['학교'].nunique()    # 개수를 출력\n",
    "\n",
    "# 개수 출력 - nan 데이터 제외 후 출력\n",
    "df[\"SW특기\"].count()    # 6개: nan데이터 2개\n",
    "df['키'].count()        # 8개"
   ]
  },
  {
   "cell_type": "code",
   "execution_count": null,
   "id": "5c2a5245",
   "metadata": {},
   "outputs": [],
   "source": [
    "### skiprows : 상단 row 개수를 삭제후 가져오기\n",
    "### index_col : index 지정\n",
    "### usecols : 필요한 컬럼만 가져오기\n",
    "### nrows: \n",
    "df = pd.read_excel('data/202412_202412_주민등록인구및세대현황_연간.xlsx',skiprows=2, index_col = '행정기관',\n",
    "                   usecols='B:C,F:H',nrows=1)\n",
    "df"
   ]
  }
 ],
 "metadata": {
  "kernelspec": {
   "display_name": "Python 3",
   "language": "python",
   "name": "python3"
  },
  "language_info": {
   "codemirror_mode": {
    "name": "ipython",
    "version": 3
   },
   "file_extension": ".py",
   "mimetype": "text/x-python",
   "name": "python",
   "nbconvert_exporter": "python",
   "pygments_lexer": "ipython3",
   "version": "3.13.2"
  }
 },
 "nbformat": 4,
 "nbformat_minor": 5
}
